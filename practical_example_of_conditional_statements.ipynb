{
  "nbformat": 4,
  "nbformat_minor": 0,
  "metadata": {
    "colab": {
      "provenance": []
    },
    "kernelspec": {
      "name": "python3",
      "display_name": "Python 3"
    },
    "language_info": {
      "name": "python"
    }
  },
  "cells": [
    {
      "cell_type": "code",
      "execution_count": 11,
      "metadata": {
        "colab": {
          "base_uri": "https://localhost:8080/"
        },
        "id": "bEG2fCQq09YM",
        "outputId": "591f42ec-53d0-44b3-f387-7953b5d6fe73"
      },
      "outputs": [
        {
          "output_type": "stream",
          "name": "stdout",
          "text": [
            "Enter first number here-->0\n",
            "Enter second number here-->0\n",
            "Enter operation (+, -, *, /, ) here-->/\n",
            "Error! Division by zero\n"
          ]
        }
      ],
      "source": [
        "# Create a simple calculator program\n",
        "# Take user input\n",
        "num1 = float(input(\"Enter first number here-->\"))\n",
        "num2 = float(input(\"Enter second number here-->\"))\n",
        "operation = input(\"Enter operation (+, -, *, /, ) here-->\")\n",
        "\n",
        "# Perform the requested operation\n",
        "if operation == \"+\":\n",
        "  result = num1 + num2\n",
        "elif operation == '-':\n",
        "  result = num1 - num2\n",
        "elif operation == '*':\n",
        "  result = num1 * num2\n",
        "elif operation == '/':\n",
        "  if num2 != 0:\n",
        "    result = num1 / num2\n",
        "  else:\n",
        "    result = \"Error! Division by zero\"\n",
        "else:\n",
        "  result = \"Invalid operation\"\n",
        "\n",
        "print(\"Result\", result)"
      ]
    },
    {
      "cell_type": "code",
      "source": [
        "### Determine the ticket price based on age and whether the person is a student.\n",
        "# Ticket pricing based on age and student status\n",
        "\n",
        "# Take user input\n",
        "age = int(input(\"Enter your age here-->\"))\n",
        "is_student = input(\"Are you a student? (yes/no)-->\").lower()\n",
        "\n",
        "# Determine Ticket Price\n",
        "if age < 5:\n",
        "  price = \"Free\"\n",
        "elif age <= 12:\n",
        "  price = \"$10\"\n",
        "elif age <= 18:\n",
        "  if is_student == 'yes':\n",
        "    price = \"$12\"\n",
        "  else:\n",
        "    price = \"$15\"\n",
        "elif age <= 30:\n",
        "  if is_student == \"yes\":\n",
        "    price = \"$18\"\n",
        "  else:\n",
        "    price = \"$25\"\n",
        "else:\n",
        "  price = \"$20\"\n",
        "\n",
        "print(\"Ticket Price:\", price)"
      ],
      "metadata": {
        "colab": {
          "base_uri": "https://localhost:8080/"
        },
        "id": "pGhW4-SS4gki",
        "outputId": "e4f588dc-dbcc-4cfe-f966-13f7d6353529"
      },
      "execution_count": 13,
      "outputs": [
        {
          "output_type": "stream",
          "name": "stdout",
          "text": [
            "Enter your age here-->55\n",
            "Are you a student? (yes/no)-->no\n",
            "Ticket Price: $20\n"
          ]
        }
      ]
    },
    {
      "cell_type": "code",
      "source": [
        "# Employee bonus calculation\n",
        "\n",
        "# Take user input\n",
        "\n",
        "years_of_service = int(input(\"Enter years of service: \"))\n",
        "performance_rating = float(input(\"Enter performance rating (1.0 to 5.0): \"))\n",
        "\n",
        "# Determine bonus percentage\n",
        "if performance_rating >= 4.5:\n",
        "  if years_of_service > 10:\n",
        "    bonus_percentage = 20\n",
        "  elif years_of_service > 5:\n",
        "    bonus_percentage = 15\n",
        "  else:\n",
        "    bonus_percentage = 10\n",
        "elif performance_rating >= 3.5:\n",
        "  if years_of_service > 10:\n",
        "    bonus_percentage = 15\n",
        "  elif years_of_service > 5:\n",
        "    bonus_percentage = 10\n",
        "  else:\n",
        "    bonus_percentage = 5\n",
        "else:\n",
        "  bonus_percentage = 0\n",
        "\n",
        "# Calculate bonus amount\n",
        "salary = float(input(\"Enter current salary: \"))\n",
        "bonus_amount = salary * bonus_percentage / 100\n",
        "\n",
        "print(\"Bonus Amount: ${:.2f}\".format(bonus_amount))"
      ],
      "metadata": {
        "colab": {
          "base_uri": "https://localhost:8080/"
        },
        "id": "9YBnEpaM4kS3",
        "outputId": "b06b2959-c704-440c-fafc-53463e3ae5c7"
      },
      "execution_count": 2,
      "outputs": [
        {
          "output_type": "stream",
          "name": "stdout",
          "text": [
            "Enter years of service: 11\n",
            "Enter performance rating (1.0 to 5.0): 4.2\n",
            "Enter current salary: 66200\n",
            "Bonus Amount: $9930.00\n"
          ]
        }
      ]
    },
    {
      "cell_type": "code",
      "source": [
        "# user login system\n",
        "\n",
        "# predefined username and password\n",
        "stored_username = \"admin\"\n",
        "stored_password = \"password123\"\n",
        "\n",
        "# take user input\n",
        "username = input(\"Enter username: \")\n",
        "password = input(\"Enter password\")\n",
        "\n",
        "# check login credentials\n",
        "if username == stored_username:\n",
        "  if password == stored_password:\n",
        "    print(\"Login successful!\")\n",
        "  else:\n",
        "    print(\"Incorrect password.\")\n",
        "else:\n",
        "  print(\"Username not found.\")"
      ],
      "metadata": {
        "colab": {
          "base_uri": "https://localhost:8080/"
        },
        "id": "ES_3U9Rnag0k",
        "outputId": "d4b7e907-6ea9-4a02-f741-b28451274c2c"
      },
      "execution_count": 4,
      "outputs": [
        {
          "output_type": "stream",
          "name": "stdout",
          "text": [
            "Enter username: admin\n",
            "Enter passwordpasswwoed1233\n",
            "Incorrect password.\n"
          ]
        }
      ]
    }
  ]
}