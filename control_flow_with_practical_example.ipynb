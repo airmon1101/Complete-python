{
  "nbformat": 4,
  "nbformat_minor": 0,
  "metadata": {
    "colab": {
      "provenance": []
    },
    "kernelspec": {
      "name": "python3",
      "display_name": "Python 3"
    },
    "language_info": {
      "name": "python"
    }
  },
  "cells": [
    {
      "cell_type": "code",
      "execution_count": 5,
      "metadata": {
        "colab": {
          "base_uri": "https://localhost:8080/"
        },
        "id": "pTK9AU9oslrU",
        "outputId": "5d2976d6-2bd4-43c5-a0d6-9f86314ae6cb"
      },
      "outputs": [
        {
          "output_type": "stream",
          "name": "stdout",
          "text": [
            "Enter your age here-->18\n",
            "You are eligible for voting\n"
          ]
        }
      ],
      "source": [
        "# age = 16\n",
        "age = int(input(\"Enter your age here-->\"))\n",
        "if age >= 18:\n",
        "  print(\"You are eligible for voting\")\n",
        "else:\n",
        "  print(\"You are a minor\")"
      ]
    },
    {
      "cell_type": "code",
      "source": [
        "# elif\n",
        "# age = 21\n",
        "age = int(input(\"Enter your age here-->\"))\n",
        "if age < 13:\n",
        "  print(\"You are a child\")\n",
        "elif age < 18:\n",
        "  print(\"You are a teenager\")\n",
        "else:\n",
        "  print(\"You are a adult\")"
      ],
      "metadata": {
        "colab": {
          "base_uri": "https://localhost:8080/"
        },
        "id": "P7sf1sm3s8zR",
        "outputId": "2821b7ce-cefb-4022-c68b-215a46ce3a57"
      },
      "execution_count": 12,
      "outputs": [
        {
          "output_type": "stream",
          "name": "stdout",
          "text": [
            "Enter your age here-->30\n",
            "You are a adult\n"
          ]
        }
      ]
    },
    {
      "cell_type": "code",
      "source": [
        "# Nested conditional statement\n",
        "# Number even, odd, negative\n",
        "num = int(input(\"Enter your number here-->\"))\n",
        "if num > 0:\n",
        "  print(\"The number is positive\")\n",
        "  if num%2==0:\n",
        "    print(num, \"is even\")\n",
        "  else:\n",
        "    print(num, \"The number is odd\")\n",
        "else:\n",
        "  print(\"The number is zero or negative\")\n"
      ],
      "metadata": {
        "colab": {
          "base_uri": "https://localhost:8080/"
        },
        "id": "LBmeyfINufQ_",
        "outputId": "85ab9d36-775d-42bd-f14a-d8dcccf8f90b"
      },
      "execution_count": 21,
      "outputs": [
        {
          "output_type": "stream",
          "name": "stdout",
          "text": [
            "Enter your number here-->10\n",
            "The number is positive\n",
            "10 is even\n"
          ]
        }
      ]
    },
    {
      "cell_type": "code",
      "source": [
        "# Pracital Examples\n",
        "# Determine if a year is a leep year using nested condition statement\n",
        "year = int(input(\"Enter the year here-->\"))\n",
        "\n",
        "if year%4==0:\n",
        "  if year%100==0:\n",
        "    if year%400==0:\n",
        "      print(year, \"is a leap year\")\n",
        "    else:\n",
        "      print(year, \"is not a leap year\")\n",
        "  else:\n",
        "    print(year, \"is a leap year\")\n",
        "else:\n",
        "  print(year, \"is not a leap year\")"
      ],
      "metadata": {
        "colab": {
          "base_uri": "https://localhost:8080/"
        },
        "id": "0q91H_IawYUV",
        "outputId": "fed8f8c5-7b0b-43f7-c7a8-97783ff922c4"
      },
      "execution_count": 30,
      "outputs": [
        {
          "output_type": "stream",
          "name": "stdout",
          "text": [
            "Enter the year here-->2025\n",
            "2025 is not a leap year\n"
          ]
        }
      ]
    },
    {
      "cell_type": "code",
      "source": [],
      "metadata": {
        "id": "RsCvmqlWxhUr"
      },
      "execution_count": 24,
      "outputs": []
    }
  ]
}